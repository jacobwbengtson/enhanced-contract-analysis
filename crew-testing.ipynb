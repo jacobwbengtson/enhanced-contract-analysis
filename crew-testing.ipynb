{
 "cells": [
  {
   "cell_type": "code",
   "execution_count": 1,
   "id": "2e20abed-6870-4c4d-86c6-a2ff83d727c4",
   "metadata": {},
   "outputs": [],
   "source": [
    "from crewai import Agent, Task, Crew\n",
    "from langchain_community.chat_models import ChatCohere\n",
    "from langchain.document_loaders import PyPDFLoader\n",
    "import os"
   ]
  },
  {
   "cell_type": "code",
   "execution_count": 2,
   "id": "ce405edb-0dcb-423c-a9a0-5094355c3158",
   "metadata": {},
   "outputs": [],
   "source": [
    "# Warning control\n",
    "import warnings\n",
    "warnings.filterwarnings('ignore')"
   ]
  },
  {
   "cell_type": "code",
   "execution_count": 3,
   "id": "3e451c96-9dae-4b88-b930-8374a39e1977",
   "metadata": {},
   "outputs": [],
   "source": [
    "# Initialize language model from Cohere\n",
    "os.environ[\"COHERE_API_KEY\"] = os.getenv('COHERE_API_KEY')\n",
    "llm = ChatCohere()"
   ]
  },
  {
   "cell_type": "markdown",
   "id": "a6ad2bb8-566d-4873-baf8-2f007ac506ae",
   "metadata": {},
   "source": [
    "# Agents"
   ]
  },
  {
   "cell_type": "code",
   "execution_count": 4,
   "id": "be9774b4-5008-43a6-9561-b7be9be7391b",
   "metadata": {},
   "outputs": [],
   "source": [
    "# Agent 1: Extractor - Reads and extracts text from the PDF\n",
    "extractor_agent = Agent(\n",
    "    role=\"PDF Extractor\",\n",
    "    goal=\"Extract text from contracts in PDF format\",\n",
    "    backstory=\"An expert in document processing and OCR technologies\",\n",
    "    llm=llm\n",
    ")\n",
    "\n",
    "# Agent 2: Contract Analyst - Identifies key elements from the contract\n",
    "contract_analyst_agent = Agent(\n",
    "    role=\"Contract Analyst\",\n",
    "    goal=\"Extract key elements from the contract text\",\n",
    "    backstory=\"A legal expert with deep knowledge of contract terms and conditions\",\n",
    "    llm=llm\n",
    ")\n",
    "\n",
    "# Agent 3: Output Formatter - Formats extracted data into structured output\n",
    "formatter_agent = Agent(\n",
    "    role=\"Structured Output Formatter\",\n",
    "    goal=\"Format extracted contract elements into a JSON output\",\n",
    "    backstory=\"A skilled data processor who ensures structured contract analysis\",\n",
    "    llm=llm\n",
    ")"
   ]
  },
  {
   "cell_type": "markdown",
   "id": "71513622-d9b5-4216-aaac-65a0de1df5cf",
   "metadata": {},
   "source": [
    "# Tasks"
   ]
  },
  {
   "cell_type": "code",
   "execution_count": 9,
   "id": "2b7b8e58-c816-4940-926c-16de511421e5",
   "metadata": {},
   "outputs": [],
   "source": [
    "extract_text_task = Task(\n",
    "    description=\"Extract all text from the given contract PDF and return as plain text.\",\n",
    "    agent=extractor_agent,\n",
    "    expected_output=\"A string containing the full text of the contract in a human-readable format.\"\n",
    ")\n",
    "\n",
    "analyze_contract_task = Task(\n",
    "    description=\"\"\"Analyze the extracted contract text and extract the following key elements:\n",
    "    - Document Name\n",
    "    - Parties\n",
    "    - Agreement Date\n",
    "    - Effective Date\n",
    "    - Expiration Date\n",
    "    - Renewal Term\n",
    "    - Notice to Terminate Renewal\n",
    "    - Governing Law\n",
    "    - Most Favored Nation\n",
    "    \n",
    "    Provide the output as a structured JSON object with each category as a key and the corresponding extracted value.\n",
    "    \"\"\",\n",
    "    agent=contract_analyst_agent,\n",
    "    expected_output=\"\"\"A structured JSON object, for example:\n",
    "    {\n",
    "        \"Document Name\": \"Master Service Agreement - Company X & Company Y\",\n",
    "        \"Parties\": [\"Company X\", \"Company Y\"],\n",
    "        \"Agreement Date\": \"01/15/2023\",\n",
    "        \"Effective Date\": \"02/01/2023\",\n",
    "        \"Expiration Date\": \"02/01/2028\",\n",
    "        \"Renewal Term\": \"Successive 1-year terms\",\n",
    "        \"Notice to Terminate Renewal\": \"90 days prior notice\",\n",
    "        \"Governing Law\": \"California, USA\",\n",
    "        \"Most Favored Nation\": \"Yes\"\n",
    "    }\n",
    "    \"\"\"\n",
    ")\n",
    "\n",
    "format_output_task = Task(\n",
    "    description=\"Format the extracted contract elements into a clean, structured JSON output that is human-readable and properly formatted.\",\n",
    "    agent=formatter_agent,\n",
    "    expected_output=\"\"\"A formatted JSON string ensuring proper indentation and readability, for example:\n",
    "    {\n",
    "        \"Document Name\": \"Master Service Agreement - Company X & Company Y\",\n",
    "        \"Parties\": [\n",
    "            \"Company X\",\n",
    "            \"Company Y\"\n",
    "        ],\n",
    "        \"Agreement Date\": \"01/15/2023\",\n",
    "        \"Effective Date\": \"02/01/2023\",\n",
    "        \"Expiration Date\": \"02/01/2028\",\n",
    "        \"Renewal Term\": \"Successive 1-year terms\",\n",
    "        \"Notice to Terminate Renewal\": \"90 days prior notice\",\n",
    "        \"Governing Law\": \"California, USA\",\n",
    "        \"Most Favored Nation\": \"Yes\"\n",
    "    }\n",
    "    \"\"\"\n",
    ")"
   ]
  },
  {
   "cell_type": "markdown",
   "id": "06b507ac-7388-4087-ba26-2cbf6ed03a51",
   "metadata": {},
   "source": [
    "# Assemble the Crew"
   ]
  },
  {
   "cell_type": "code",
   "execution_count": 15,
   "id": "89f62400-c573-4cbe-a114-bc949896f3b8",
   "metadata": {},
   "outputs": [
    {
     "name": "stderr",
     "output_type": "stream",
     "text": [
      "2025-02-21 00:09:09,107 - 139822183156608 - __init__.py-__init__:537 - WARNING: Overriding of current TracerProvider is not allowed\n"
     ]
    }
   ],
   "source": [
    "crew = Crew(\n",
    "    agents=[extractor_agent, contract_analyst_agent, formatter_agent],\n",
    "    tasks=[extract_text_task, analyze_contract_task, format_output_task]\n",
    ")"
   ]
  },
  {
   "cell_type": "markdown",
   "id": "87be1dc2-2da7-47d5-a5ff-28e9e1910396",
   "metadata": {},
   "source": [
    "# Run It"
   ]
  },
  {
   "cell_type": "code",
   "execution_count": 16,
   "id": "db0a9c09-5594-4b6e-b27b-17309c803cba",
   "metadata": {},
   "outputs": [],
   "source": [
    "# Function to process the contract PDF\n",
    "def process_contract(pdf_path):\n",
    "    # Load and extract text from the PDF\n",
    "    loader = PyPDFLoader(pdf_path)\n",
    "    documents = loader.load()\n",
    "    contract_text = \"\\n\".join([doc.page_content for doc in documents])\n",
    "\n",
    "    # Ensure we pass the extracted text properly\n",
    "    result = crew.kickoff(inputs={\"contract_text\": contract_text})  # Pass as a dictionary\n",
    "\n",
    "    return result"
   ]
  },
  {
   "cell_type": "code",
   "execution_count": 17,
   "id": "f2f8ed8f-7c7c-483a-ab3a-8ff6c63292c2",
   "metadata": {},
   "outputs": [
    {
     "ename": "KeyError",
     "evalue": "'\\n        \"Document Name\"'",
     "output_type": "error",
     "traceback": [
      "\u001b[0;31m---------------------------------------------------------------------------\u001b[0m",
      "\u001b[0;31mKeyError\u001b[0m                                  Traceback (most recent call last)",
      "Cell \u001b[0;32mIn[17], line 3\u001b[0m\n\u001b[1;32m      1\u001b[0m \u001b[38;5;66;03m# Example usage: Replace 'contract.pdf' with your actual contract file\u001b[39;00m\n\u001b[1;32m      2\u001b[0m pdf_path \u001b[38;5;241m=\u001b[39m \u001b[38;5;124m\"\u001b[39m\u001b[38;5;124mCUAD_v1/full_contract_pdf/Part_I/Maintenance/AtnInternationalInc_20191108_10-Q_EX-10.1_11878541_EX-10.1_Maintenance Agreement.pdf\u001b[39m\u001b[38;5;124m\"\u001b[39m  \u001b[38;5;66;03m# Provide your contract PDF path\u001b[39;00m\n\u001b[0;32m----> 3\u001b[0m output \u001b[38;5;241m=\u001b[39m \u001b[43mprocess_contract\u001b[49m\u001b[43m(\u001b[49m\u001b[43mpdf_path\u001b[49m\u001b[43m)\u001b[49m\n",
      "Cell \u001b[0;32mIn[16], line 9\u001b[0m, in \u001b[0;36mprocess_contract\u001b[0;34m(pdf_path)\u001b[0m\n\u001b[1;32m      6\u001b[0m contract_text \u001b[38;5;241m=\u001b[39m \u001b[38;5;124m\"\u001b[39m\u001b[38;5;130;01m\\n\u001b[39;00m\u001b[38;5;124m\"\u001b[39m\u001b[38;5;241m.\u001b[39mjoin([doc\u001b[38;5;241m.\u001b[39mpage_content \u001b[38;5;28;01mfor\u001b[39;00m doc \u001b[38;5;129;01min\u001b[39;00m documents])\n\u001b[1;32m      8\u001b[0m \u001b[38;5;66;03m# Ensure we pass the extracted text properly\u001b[39;00m\n\u001b[0;32m----> 9\u001b[0m result \u001b[38;5;241m=\u001b[39m \u001b[43mcrew\u001b[49m\u001b[38;5;241;43m.\u001b[39;49m\u001b[43mkickoff\u001b[49m\u001b[43m(\u001b[49m\u001b[43minputs\u001b[49m\u001b[38;5;241;43m=\u001b[39;49m\u001b[43m{\u001b[49m\u001b[38;5;124;43m\"\u001b[39;49m\u001b[38;5;124;43mcontract_text\u001b[39;49m\u001b[38;5;124;43m\"\u001b[39;49m\u001b[43m:\u001b[49m\u001b[43m \u001b[49m\u001b[43mcontract_text\u001b[49m\u001b[43m}\u001b[49m\u001b[43m)\u001b[49m  \u001b[38;5;66;03m# Pass as a dictionary\u001b[39;00m\n\u001b[1;32m     11\u001b[0m \u001b[38;5;28;01mreturn\u001b[39;00m result\n",
      "File \u001b[0;32m~/.local/lib/python3.11/site-packages/crewai/crew.py:286\u001b[0m, in \u001b[0;36mCrew.kickoff\u001b[0;34m(self, inputs)\u001b[0m\n\u001b[1;32m    284\u001b[0m \u001b[38;5;28mself\u001b[39m\u001b[38;5;241m.\u001b[39m_execution_span \u001b[38;5;241m=\u001b[39m \u001b[38;5;28mself\u001b[39m\u001b[38;5;241m.\u001b[39m_telemetry\u001b[38;5;241m.\u001b[39mcrew_execution_span(\u001b[38;5;28mself\u001b[39m, inputs)\n\u001b[1;32m    285\u001b[0m \u001b[38;5;66;03m# type: ignore # Argument 1 to \"_interpolate_inputs\" of \"Crew\" has incompatible type \"dict[str, Any] | None\"; expected \"dict[str, Any]\"\u001b[39;00m\n\u001b[0;32m--> 286\u001b[0m \u001b[38;5;28;43mself\u001b[39;49m\u001b[38;5;241;43m.\u001b[39;49m\u001b[43m_interpolate_inputs\u001b[49m\u001b[43m(\u001b[49m\u001b[43minputs\u001b[49m\u001b[43m)\u001b[49m\n\u001b[1;32m    287\u001b[0m \u001b[38;5;28mself\u001b[39m\u001b[38;5;241m.\u001b[39m_set_tasks_callbacks()\n\u001b[1;32m    289\u001b[0m i18n \u001b[38;5;241m=\u001b[39m I18N(prompt_file\u001b[38;5;241m=\u001b[39m\u001b[38;5;28mself\u001b[39m\u001b[38;5;241m.\u001b[39mprompt_file)\n",
      "File \u001b[0;32m~/.local/lib/python3.11/site-packages/crewai/crew.py:509\u001b[0m, in \u001b[0;36mCrew._interpolate_inputs\u001b[0;34m(self, inputs)\u001b[0m\n\u001b[1;32m    507\u001b[0m \u001b[38;5;28;01mdef\u001b[39;00m \u001b[38;5;21m_interpolate_inputs\u001b[39m(\u001b[38;5;28mself\u001b[39m, inputs: Dict[\u001b[38;5;28mstr\u001b[39m, Any]) \u001b[38;5;241m-\u001b[39m\u001b[38;5;241m>\u001b[39m \u001b[38;5;28;01mNone\u001b[39;00m:\n\u001b[1;32m    508\u001b[0m \u001b[38;5;250m    \u001b[39m\u001b[38;5;124;03m\"\"\"Interpolates the inputs in the tasks and agents.\"\"\"\u001b[39;00m\n\u001b[0;32m--> 509\u001b[0m     \u001b[43m[\u001b[49m\n\u001b[1;32m    510\u001b[0m \u001b[43m        \u001b[49m\u001b[43mtask\u001b[49m\u001b[38;5;241;43m.\u001b[39;49m\u001b[43minterpolate_inputs\u001b[49m\u001b[43m(\u001b[49m\n\u001b[1;32m    511\u001b[0m \u001b[43m            \u001b[49m\u001b[38;5;66;43;03m# type: ignore # \"interpolate_inputs\" of \"Task\" does not return a value (it only ever returns None)\u001b[39;49;00m\n\u001b[1;32m    512\u001b[0m \u001b[43m            \u001b[49m\u001b[43minputs\u001b[49m\n\u001b[1;32m    513\u001b[0m \u001b[43m        \u001b[49m\u001b[43m)\u001b[49m\n\u001b[1;32m    514\u001b[0m \u001b[43m        \u001b[49m\u001b[38;5;28;43;01mfor\u001b[39;49;00m\u001b[43m \u001b[49m\u001b[43mtask\u001b[49m\u001b[43m \u001b[49m\u001b[38;5;129;43;01min\u001b[39;49;00m\u001b[43m \u001b[49m\u001b[38;5;28;43mself\u001b[39;49m\u001b[38;5;241;43m.\u001b[39;49m\u001b[43mtasks\u001b[49m\n\u001b[1;32m    515\u001b[0m \u001b[43m    \u001b[49m\u001b[43m]\u001b[49m\n\u001b[1;32m    516\u001b[0m     \u001b[38;5;66;03m# type: ignore # \"interpolate_inputs\" of \"Agent\" does not return a value (it only ever returns None)\u001b[39;00m\n\u001b[1;32m    517\u001b[0m     \u001b[38;5;28;01mfor\u001b[39;00m agent \u001b[38;5;129;01min\u001b[39;00m \u001b[38;5;28mself\u001b[39m\u001b[38;5;241m.\u001b[39magents:\n",
      "File \u001b[0;32m~/.local/lib/python3.11/site-packages/crewai/crew.py:510\u001b[0m, in \u001b[0;36m<listcomp>\u001b[0;34m(.0)\u001b[0m\n\u001b[1;32m    507\u001b[0m \u001b[38;5;28;01mdef\u001b[39;00m \u001b[38;5;21m_interpolate_inputs\u001b[39m(\u001b[38;5;28mself\u001b[39m, inputs: Dict[\u001b[38;5;28mstr\u001b[39m, Any]) \u001b[38;5;241m-\u001b[39m\u001b[38;5;241m>\u001b[39m \u001b[38;5;28;01mNone\u001b[39;00m:\n\u001b[1;32m    508\u001b[0m \u001b[38;5;250m    \u001b[39m\u001b[38;5;124;03m\"\"\"Interpolates the inputs in the tasks and agents.\"\"\"\u001b[39;00m\n\u001b[1;32m    509\u001b[0m     [\n\u001b[0;32m--> 510\u001b[0m         \u001b[43mtask\u001b[49m\u001b[38;5;241;43m.\u001b[39;49m\u001b[43minterpolate_inputs\u001b[49m\u001b[43m(\u001b[49m\n\u001b[1;32m    511\u001b[0m \u001b[43m            \u001b[49m\u001b[38;5;66;43;03m# type: ignore # \"interpolate_inputs\" of \"Task\" does not return a value (it only ever returns None)\u001b[39;49;00m\n\u001b[1;32m    512\u001b[0m \u001b[43m            \u001b[49m\u001b[43minputs\u001b[49m\n\u001b[1;32m    513\u001b[0m \u001b[43m        \u001b[49m\u001b[43m)\u001b[49m\n\u001b[1;32m    514\u001b[0m         \u001b[38;5;28;01mfor\u001b[39;00m task \u001b[38;5;129;01min\u001b[39;00m \u001b[38;5;28mself\u001b[39m\u001b[38;5;241m.\u001b[39mtasks\n\u001b[1;32m    515\u001b[0m     ]\n\u001b[1;32m    516\u001b[0m     \u001b[38;5;66;03m# type: ignore # \"interpolate_inputs\" of \"Agent\" does not return a value (it only ever returns None)\u001b[39;00m\n\u001b[1;32m    517\u001b[0m     \u001b[38;5;28;01mfor\u001b[39;00m agent \u001b[38;5;129;01min\u001b[39;00m \u001b[38;5;28mself\u001b[39m\u001b[38;5;241m.\u001b[39magents:\n",
      "File \u001b[0;32m~/.local/lib/python3.11/site-packages/crewai/task.py:267\u001b[0m, in \u001b[0;36mTask.interpolate_inputs\u001b[0;34m(self, inputs)\u001b[0m\n\u001b[1;32m    265\u001b[0m \u001b[38;5;28;01mif\u001b[39;00m inputs:\n\u001b[1;32m    266\u001b[0m     \u001b[38;5;28mself\u001b[39m\u001b[38;5;241m.\u001b[39mdescription \u001b[38;5;241m=\u001b[39m \u001b[38;5;28mself\u001b[39m\u001b[38;5;241m.\u001b[39m_original_description\u001b[38;5;241m.\u001b[39mformat(\u001b[38;5;241m*\u001b[39m\u001b[38;5;241m*\u001b[39minputs)\n\u001b[0;32m--> 267\u001b[0m     \u001b[38;5;28mself\u001b[39m\u001b[38;5;241m.\u001b[39mexpected_output \u001b[38;5;241m=\u001b[39m \u001b[38;5;28;43mself\u001b[39;49m\u001b[38;5;241;43m.\u001b[39;49m\u001b[43m_original_expected_output\u001b[49m\u001b[38;5;241;43m.\u001b[39;49m\u001b[43mformat\u001b[49m\u001b[43m(\u001b[49m\u001b[38;5;241;43m*\u001b[39;49m\u001b[38;5;241;43m*\u001b[39;49m\u001b[43minputs\u001b[49m\u001b[43m)\u001b[49m\n",
      "\u001b[0;31mKeyError\u001b[0m: '\\n        \"Document Name\"'"
     ]
    }
   ],
   "source": [
    "# Example usage: Replace 'contract.pdf' with your actual contract file\n",
    "pdf_path = \"CUAD_v1/full_contract_pdf/Part_I/Maintenance/AtnInternationalInc_20191108_10-Q_EX-10.1_11878541_EX-10.1_Maintenance Agreement.pdf\"  # Provide your contract PDF path\n",
    "output = process_contract(pdf_path)"
   ]
  },
  {
   "cell_type": "code",
   "execution_count": null,
   "id": "9ece8b4b-f4d9-40cc-bd9d-3dc7f2f31f63",
   "metadata": {},
   "outputs": [],
   "source": [
    "# Print and save the extracted contract details\n",
    "print(json.dumps(output, indent=4))\n",
    "with open(\"extracted_contract.json\", \"w\") as f:\n",
    "    json.dump(output, f, indent=4)"
   ]
  }
 ],
 "metadata": {
  "kernelspec": {
   "display_name": "Python 3 (ipykernel)",
   "language": "python",
   "name": "python3"
  },
  "language_info": {
   "codemirror_mode": {
    "name": "ipython",
    "version": 3
   },
   "file_extension": ".py",
   "mimetype": "text/x-python",
   "name": "python",
   "nbconvert_exporter": "python",
   "pygments_lexer": "ipython3",
   "version": "3.11.11"
  }
 },
 "nbformat": 4,
 "nbformat_minor": 5
}
